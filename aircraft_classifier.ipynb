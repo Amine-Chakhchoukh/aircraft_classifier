{
 "cells": [
  {
   "cell_type": "code",
   "execution_count": 48,
   "metadata": {},
   "outputs": [],
   "source": [
    "from fastai.vision.all import *\n",
    "from fastai.vision.widgets import *\n",
    "\n",
    "# Load the trained classifier\n",
    "path = Path()\n",
    "learn_inf = load_learner(path/'export.pkl', cpu = True)\n",
    "\n",
    
    "# Create the components of our web app\n",
    "button_upload = widgets.FileUpload(description='Upload picture')\n",
    "output_image = widgets.Output()\n",
    "label_pred = widgets.Label()\n",
    "button_run = widgets.Button(description='Classify aircraft')"
   ]
  },
  {
   "cell_type": "code",
   "execution_count": 49,
   "metadata": {},
   "outputs": [],
   "source": [
    "# We trained our classifier with images of specific models in order to\n",
    "# get more relevant images using the Bing Search API\n",
    "# However the model is meant to distinguish general types of aircraft\n",
    "new_labels = {\n",
    "    'airbus a380': 'Airliner',\n",
    "    'apache helicopter': 'Attack helicopter',\n",
    "    'mirage 2000': 'Fighter jet'\n",
    "}\n",
    "\n",
    "# Callback of the upload button: get user's picture and display it with a reasonable size\n",
    "def on_data_change(change):\n",
    "    image = PILImage.create(button_upload.data[-1])\n",
    "    output_image.clear_output()\n",
    "    with output_image: display(image.to_thumb(h = 360))\n",
    "        \n",
    "# Callback of the classify button: generate the predicted class and associated probability\n",
    "def on_click_classify(change):\n",
    "    label_pred.value = ''\n",
    "    if button_upload.data:\n",
    "        image = PILImage.create(button_upload.data[-1])\n",
    "        pred,pred_idx,prob = learn_inf.predict(image)\n",
    "        label_pred.value = f'Prediction: {new_labels[pred]} | Probability: {prob[pred_idx]:0.04f}'\n",
    "    else:\n",
    "        label_pred.value = 'No image to classify!'\n",
    "        \n",
    "# Pair buttons and callbacks\n",
    "button_upload.observe(on_data_change, names=['data'])\n",
    "button_run.on_click(on_click_classify)"
   ]
  },
  {
   "cell_type": "code",
   "execution_count": null,
   "metadata": {},
   "outputs": [],
   "source": [
    "# Put all the app's components together\n",
    "display(VBox(\n",
    "    [widgets.HTML(value = f\"<font color='1C2833 ' size='5'>Select your aircraft: <i>airliner</i> / <i>attack helicopter</i> / <i>fighter jet</i>\"), button_upload, output_image, button_run, label_pred],\n",
    "    layout=Layout(width='100%', display='flex', align_items='center')\n",
    "))"
   ]
  }
 ],
 "metadata": {
  "kernelspec": {
   "display_name": "Python 3",
   "language": "python",
   "name": "python3"
  },
  "language_info": {
   "codemirror_mode": {
    "name": "ipython",
    "version": 3
   },
   "file_extension": ".py",
   "mimetype": "text/x-python",
   "name": "python",
   "nbconvert_exporter": "python",
   "pygments_lexer": "ipython3",
   "version": "3.8.5"
  }
 },
 "nbformat": 4,
 "nbformat_minor": 4
}
